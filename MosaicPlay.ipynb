{
 "cells": [
  {
   "cell_type": "code",
   "execution_count": 1,
   "metadata": {},
   "outputs": [
    {
     "name": "stdout",
     "output_type": "stream",
     "text": [
      "('src shape:', (1429, 1080, 3))\n"
     ]
    },
    {
     "name": "stdout",
     "output_type": "stream",
     "text": [
      "('enlarge shape:', (21435, 16200, 3))\ntest############\n(27, 21, 3)\n"
     ]
    },
    {
     "data": {
      "image/png": "[encoded data removed]",
      "text/plain": [
       "<Figure size 432x288 with 1 Axes>"
      ]
     },
     "metadata": {},
     "output_type": "display_data"
    }
   ],
   "source": [
    "import numpy as np\n",
    "import matplotlib.pyplot as plt\n",
    "import cv2\n",
    "%matplotlib inline\n",
    "\n",
    "dog = plt.imread('/Users/luluo/PycharmProjects/test0106/WechatIMG11.jpeg')\n",
    "plt.imshow(dog)\n",
    "print('src shape:',dog.shape)\n",
    "dog.shape\n",
    "fx = 15  \n",
    "fy = 15  \n",
    "enlarge = cv2.resize(dog, (0, 0), fx=fx, fy=fy, interpolation=cv2.INTER_CUBIC) \n",
    "# dog.resize(480,360)\n",
    "enlarge.shape\n",
    "print('enlarge shape:',enlarge.shape)\n",
    "#隔30行30列取一个像素点\n",
    "#新数组行数：800/30 = 27(向上取整)\n",
    "#新数组列数：1280/30 = 43(向上取整)\n",
    "print (\"test############\")\n",
    "dog2 = enlarge[::800,::800]\n",
    "plt.imshow(dog2)\n",
    "print(dog2.shape)\n",
    "plt.imsave('lai106.png',dog2)"
   ]
  },
  {
   "cell_type": "code",
   "execution_count": null,
   "metadata": {},
   "outputs": [],
   "source": []
  }
 ],
 "metadata": {
  "kernelspec": {
   "display_name": "Python 2",
   "language": "python",
   "name": "python2"
  },
  "language_info": {
   "codemirror_mode": {
    "name": "ipython",
    "version": 2
   },
   "file_extension": ".py",
   "mimetype": "text/x-python",
   "name": "python",
   "nbconvert_exporter": "python",
   "pygments_lexer": "ipython2",
   "version": "2.7.15"
  }
 },
 "nbformat": 4,
 "nbformat_minor": 2
}
